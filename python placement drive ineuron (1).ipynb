{
 "cells": [
  {
   "cell_type": "code",
   "execution_count": null,
   "id": "1eef36c3",
   "metadata": {},
   "outputs": [],
   "source": [
    "1) Reading text file and replacing the specific content of the file"
   ]
  },
  {
   "cell_type": "code",
   "execution_count": 6,
   "id": "5b987a15",
   "metadata": {},
   "outputs": [],
   "source": [
    "def replacing():\n",
    "    import logging    \n",
    "    try:\n",
    "        logging.basicConfig(filename = 'examp.log', level= logging.DEBUG , format = '%(asctime)s %(levelname)s %(message)s')\n",
    "        a = str(input())\n",
    "        with open('example3.txt') as task:\n",
    "            if a in task.read():\n",
    "                print('text found, enter the text to replace the old previous')\n",
    "                logging.info('input found')\n",
    "                b = str(input())  \n",
    "                logging.info('this is start of logg %s and %s', a, b)\n",
    "                with open(\"example3.txt\", \"r+\") as task:\n",
    "                    texts = task.read()\n",
    "                    texts = texts.replace(a, b)\n",
    "                with open(\"example3.txt\", \"w\") as task:\n",
    "                    task.write(texts)\n",
    "                print(b, 'was successfully replaced the', a)\n",
    "                logging.info(b,'executed susscessfully')\n",
    "               \n",
    "            else:\n",
    "                print(a, 'not found in the file')\n",
    "                logging.info('input not found')\n",
    "    except Exception as e:\n",
    "        print(\"Could not find the file you are trying to read.\")\n",
    "        logging.error('error found', exc_info=True)\n",
    "        logging.exception('exception is' + str(e))\n",
    "        logging.info('not executed susscessfully')\n",
    "        \n",
    "    "
   ]
  },
  {
   "cell_type": "code",
   "execution_count": null,
   "id": "b4814a0e",
   "metadata": {
    "scrolled": true
   },
   "outputs": [],
   "source": [
    "replacing()"
   ]
  },
  {
   "cell_type": "code",
   "execution_count": null,
   "id": "1dbce1aa",
   "metadata": {},
   "outputs": [],
   "source": []
  },
  {
   "cell_type": "code",
   "execution_count": null,
   "id": "7be4ffd1",
   "metadata": {},
   "outputs": [],
   "source": []
  },
  {
   "cell_type": "code",
   "execution_count": null,
   "id": "4f3c07d3",
   "metadata": {},
   "outputs": [],
   "source": [
    "2)Multiple Inheritance:\n",
    "    One child class from two parent class, we can call the parent class's functions through child. We are creating class and its\n",
    "    inside we define functions, if we need to use the different parent class's methods into child class this is called the \n",
    "    multiple inheritance.\n",
    "    "
   ]
  },
  {
   "cell_type": "code",
   "execution_count": 4,
   "id": "2d8a7ff1",
   "metadata": {},
   "outputs": [],
   "source": [
    "import logging    \n",
    "logging.basicConfig(filename = 'multiple_inheritance.log', level= logging.DEBUG , format = '%(asctime)s %(levelname)s %(message)s')\n",
    "try:\n",
    "    class parent_A:\n",
    "        logging.info('parent_A executing')\n",
    "        def __init(self,a,b):\n",
    "            pass\n",
    "\n",
    "        def addition(self,a,b):\n",
    "            c = a+b\n",
    "            print(c)\n",
    "\n",
    "    class parent_B:\n",
    "        logging.info('parent_B executing')\n",
    "        def __init(self):\n",
    "            pass\n",
    "\n",
    "        def subtraction(self,a,b):\n",
    "            c = a-b\n",
    "            print(c)\n",
    "\n",
    "    class parent_C(parent_A, parent_B):\n",
    "        logging.info('child of parent_A and parent_B executing')\n",
    "        logging.info('child class parent_C executing')\n",
    "        def __init(self):\n",
    "            pass\n",
    "except Exception as e:\n",
    "    print('error found, check log file for more info')\n",
    "    logging.error('error found')\n",
    "    logging.exception('exception is' + str(e))\n"
   ]
  },
  {
   "cell_type": "code",
   "execution_count": 5,
   "id": "a861674a",
   "metadata": {},
   "outputs": [],
   "source": [
    "m = parent_C()"
   ]
  },
  {
   "cell_type": "code",
   "execution_count": 6,
   "id": "7b2975a0",
   "metadata": {},
   "outputs": [
    {
     "name": "stdout",
     "output_type": "stream",
     "text": [
      "4\n"
     ]
    }
   ],
   "source": [
    "m.addition(2,2)"
   ]
  },
  {
   "cell_type": "code",
   "execution_count": null,
   "id": "aeec2f71",
   "metadata": {},
   "outputs": [],
   "source": []
  },
  {
   "cell_type": "code",
   "execution_count": null,
   "id": "b6d95a11",
   "metadata": {},
   "outputs": [],
   "source": [
    "2)Abstract class:"
   ]
  },
  {
   "cell_type": "code",
   "execution_count": null,
   "id": "79847f28",
   "metadata": {},
   "outputs": [],
   "source": [
    "Abstract class is like set of classes which have outline/blueprint methods, it would be demo version of the project."
   ]
  },
  {
   "cell_type": "code",
   "execution_count": 7,
   "id": "f92465ab",
   "metadata": {},
   "outputs": [],
   "source": [
    "import logging    \n",
    "logging.basicConfig(filename = 'abstract_class.log', level= logging.DEBUG , format = '%(asctime)s %(levelname)s %(message)s')\n",
    "try:    \n",
    "    class building:\n",
    "        logging.info('parent building class and its methods were executing')\n",
    "        def __init(self):\n",
    "            pass\n",
    "        def basement(self):\n",
    "            print('basement')\n",
    "        def first_floor(self):\n",
    "            print('first floor')\n",
    "        def second_floor(self):\n",
    "            print('second floor')\n",
    "    class first_flr(building):\n",
    "        logging.info('child class first_flr and its methods were executing')\n",
    "        def electrician(self):\n",
    "            print(' will do electrical work')\n",
    "        def plumber(self):\n",
    "            print('will do water supply lines')\n",
    "        def painter(self):\n",
    "            print('will do painting work')\n",
    "\n",
    "    class second_flr(first_flr, building):\n",
    "        logging.info('child class second_flr, parent classes (first_flr, building) and its methods were executing')\n",
    "        def terrace(self):\n",
    "            print('will do terrace work')\n",
    "        def solar_plant(self):\n",
    "            print('will work on solar plant')\n",
    "except Exception as e:\n",
    "    print('error found, check log file for more info')\n",
    "    logging.error('error found')\n",
    "    logging.exception('exception is' + str(e))"
   ]
  },
  {
   "cell_type": "code",
   "execution_count": 8,
   "id": "b93d513f",
   "metadata": {},
   "outputs": [],
   "source": [
    "sf = second_flr()"
   ]
  },
  {
   "cell_type": "code",
   "execution_count": 9,
   "id": "3cda3e8a",
   "metadata": {},
   "outputs": [
    {
     "name": "stdout",
     "output_type": "stream",
     "text": [
      "will do painting work\n"
     ]
    }
   ],
   "source": [
    "sf.painter()"
   ]
  },
  {
   "cell_type": "code",
   "execution_count": 10,
   "id": "6e6c61f3",
   "metadata": {},
   "outputs": [
    {
     "name": "stdout",
     "output_type": "stream",
     "text": [
      "basement\n"
     ]
    }
   ],
   "source": [
    "sf.basement()"
   ]
  },
  {
   "cell_type": "code",
   "execution_count": null,
   "id": "e7804032",
   "metadata": {},
   "outputs": [],
   "source": []
  },
  {
   "cell_type": "code",
   "execution_count": null,
   "id": "887ee4f6",
   "metadata": {},
   "outputs": [],
   "source": [
    "2)Decorators:\n",
    "    Using decorators we can the extra features to the existing function, we can change the existing behaviour \n",
    "    of the functions at the compile time itself."
   ]
  },
  {
   "cell_type": "code",
   "execution_count": 6,
   "id": "eee07c2a",
   "metadata": {},
   "outputs": [],
   "source": [
    "def swap(a,b):\n",
    "    print('Swapped values:',a,b )\n",
    "\n",
    "def smart_swap(function):\n",
    "    def cond(a,b):\n",
    "        if a<b:\n",
    "            a,b = b,a\n",
    "            #if numerator less than denominator it will swap\n",
    "        return function(a,b)\n",
    "    return cond"
   ]
  },
  {
   "cell_type": "code",
   "execution_count": 7,
   "id": "7beabb4b",
   "metadata": {},
   "outputs": [],
   "source": [
    "swap = smart_swap(swap)"
   ]
  },
  {
   "cell_type": "code",
   "execution_count": 8,
   "id": "3f05e678",
   "metadata": {},
   "outputs": [
    {
     "name": "stdout",
     "output_type": "stream",
     "text": [
      "Swapped values: 3 1\n"
     ]
    }
   ],
   "source": [
    "swap(1,3)"
   ]
  },
  {
   "cell_type": "code",
   "execution_count": null,
   "id": "334d89dd",
   "metadata": {},
   "outputs": [],
   "source": []
  },
  {
   "cell_type": "code",
   "execution_count": null,
   "id": "63ec90f9",
   "metadata": {},
   "outputs": [],
   "source": []
  },
  {
   "cell_type": "code",
   "execution_count": null,
   "id": "69f9f394",
   "metadata": {},
   "outputs": [],
   "source": []
  },
  {
   "cell_type": "code",
   "execution_count": null,
   "id": "e94f041b",
   "metadata": {
    "scrolled": false
   },
   "outputs": [],
   "source": []
  }
 ],
 "metadata": {
  "kernelspec": {
   "display_name": "Python 3",
   "language": "python",
   "name": "python3"
  },
  "language_info": {
   "codemirror_mode": {
    "name": "ipython",
    "version": 3
   },
   "file_extension": ".py",
   "mimetype": "text/x-python",
   "name": "python",
   "nbconvert_exporter": "python",
   "pygments_lexer": "ipython3",
   "version": "3.8.8"
  }
 },
 "nbformat": 4,
 "nbformat_minor": 5
}
